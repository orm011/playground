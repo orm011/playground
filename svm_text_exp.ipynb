{
 "cells": [
  {
   "cell_type": "code",
   "execution_count": 1,
   "metadata": {},
   "outputs": [
    {
     "name": "stderr",
     "output_type": "stream",
     "text": [
      "/Users/orm/mambaforge/envs/playground2/lib/python3.11/site-packages/tqdm/auto.py:21: TqdmWarning: IProgress not found. Please update jupyter and ipywidgets. See https://ipywidgets.readthedocs.io/en/stable/user_install.html\n",
      "  from .autonotebook import tqdm as notebook_tqdm\n"
     ]
    }
   ],
   "source": [
    "import pandas as pd\n",
    "import numpy as np\n",
    "import torch\n",
    "import torch.nn.functional as F\n",
    "from tqdm.auto import tqdm\n",
    "from playground.load import dataset, clip_model, clip_processor, model_device, extract_image_vectors"
   ]
  },
  {
   "cell_type": "code",
   "execution_count": 11,
   "metadata": {},
   "outputs": [],
   "source": [
    "#will take a few minutes\n",
    "#df = extract_image_vectors(dataset)\n",
    "#df.to_parquet('data/objectnet/embeddings.parquet')"
   ]
  },
  {
   "cell_type": "code",
   "execution_count": 12,
   "metadata": {},
   "outputs": [],
   "source": [
    "df = pd.read_parquet('data/objectnet/embeddings.parquet')\n",
    "image_vectors = np.stack(df['vectors'])"
   ]
  },
  {
   "cell_type": "code",
   "execution_count": 13,
   "metadata": {},
   "outputs": [],
   "source": [
    "def get_y_true(df, label):\n",
    "    assert label in df.label.unique()\n",
    "    return np.where(df.label == label, 1, 0)\n",
    "\n",
    "def get_query_vector(text):\n",
    "    query_tokens = clip_processor(text=[text], return_tensors='pt')\n",
    "    query_vector = clip_model.get_text_features(query_tokens['input_ids'].to(model_device))\n",
    "    query_vector = F.normalize(query_vector)\n",
    "    query_vector = query_vector.cpu().detach().numpy().reshape(-1)\n",
    "    return query_vector"
   ]
  },
  {
   "cell_type": "code",
   "execution_count": 14,
   "metadata": {},
   "outputs": [],
   "source": [
    "from sklearn.metrics import average_precision_score"
   ]
  },
  {
   "cell_type": "code",
   "execution_count": 15,
   "metadata": {},
   "outputs": [
    {
     "data": {
      "text/plain": [
       "0.8448669959968025"
      ]
     },
     "execution_count": 15,
     "metadata": {},
     "output_type": "execute_result"
    }
   ],
   "source": [
    "y_true = get_y_true(df, 'banana')\n",
    "query_vector = get_query_vector('a photo of a banana')\n",
    "image_scores = image_vectors @ query_vector\n",
    "average_precision_score(y_true, image_scores)"
   ]
  },
  {
   "cell_type": "code",
   "execution_count": 7,
   "metadata": {},
   "outputs": [],
   "source": [
    "# for each label, we will pick a few random 'train' images we will use for querying, and the rest will be used for measuring performance\n"
   ]
  },
  {
   "cell_type": "code",
   "execution_count": 42,
   "metadata": {},
   "outputs": [],
   "source": []
  },
  {
   "cell_type": "code",
   "execution_count": null,
   "metadata": {},
   "outputs": [],
   "source": []
  },
  {
   "cell_type": "code",
   "execution_count": null,
   "metadata": {},
   "outputs": [],
   "source": []
  },
  {
   "cell_type": "code",
   "execution_count": 44,
   "metadata": {},
   "outputs": [],
   "source": [
    "np.random.seed(0)\n",
    "df = df.assign(random_id=np.random.permutation(df.shape[0]))\n",
    "df = df.assign(group_rank=df.groupby('label')['random_id'].rank(method='first').astype('int'))\n",
    "df = df.assign(split=df.group_rank.apply(lambda x: 'query' if x <= 1 else 'test'))\n",
    "df = df.assign(normalized_vectors=[vec for vec in np.stack(df['vectors'])/np.linalg.norm(df['vectors'])])\n",
    "\n",
    "# now, we will compute the average precision for each train example\n",
    "query_df = df[df.split == 'query']\n",
    "test_df = df[df.split == 'test']\n",
    "\n",
    "ntrain = 2000\n",
    "random_sample = np.random.permutation(test_df.shape[0])[:ntrain]\n",
    "# take a random sample of the DB, make it larger than the dimension?\n",
    "Xneg = np.stack(test_df.iloc[random_sample].normalized_vectors.values)\n",
    "yneg = np.zeros(ntrain)\n",
    "\n",
    "Xtest = np.stack(test_df.normalized_vectors.values)"
   ]
  },
  {
   "cell_type": "code",
   "execution_count": 45,
   "metadata": {},
   "outputs": [],
   "source": [
    "def make_query(label : str) -> str:\n",
    "    remove_under = label.replace('_', ' ')\n",
    "    return f'a photo of a {remove_under}'"
   ]
  },
  {
   "cell_type": "code",
   "execution_count": 57,
   "metadata": {},
   "outputs": [],
   "source": [
    "def get_vector_from_text(row):\n",
    "    return get_query_vector(make_query(row.label))\n",
    "\n",
    "def get_vector_from_knn(row):\n",
    "    return row.normalized_vectors\n",
    "\n",
    "from sklearn import svm\n",
    "def get_vector_from_svm(row):\n",
    "    clf = svm.LinearSVC(class_weight='balanced', verbose=False, max_iter=10000, tol=1e-6, C=0.1)\n",
    "    Xpos = row.normalized_vectors.reshape(1, -1)\n",
    "    X = np.concatenate([Xpos, Xneg], axis=0)\n",
    "    y = np.concatenate([np.ones(1), yneg])\n",
    "    clf.fit(X, y) # train\n",
    "    return clf.coef_.reshape(-1)\n",
    "\n",
    "from sklearn import linear_model\n",
    "def get_vector_from_logistic_reg(row):\n",
    "    clf = linear_model.LogisticRegression(class_weight='balanced', fit_intercept=False, verbose=False, max_iter=10000, tol=1e-6, C=0.1)\n",
    "    Xpos = row.normalized_vectors.reshape(1, -1)\n",
    "    X = np.concatenate([Xpos, Xneg], axis=0)\n",
    "    y = np.concatenate([np.ones(1), yneg])\n",
    "    clf.fit(X, y) # train\n",
    "    return clf.coef_.reshape(-1)"
   ]
  },
  {
   "cell_type": "code",
   "execution_count": 96,
   "metadata": {},
   "outputs": [],
   "source": [
    "def eval_method(query_df, vector_fn):\n",
    "    aps = []\n",
    "    for (idx, row) in tqdm(query_df.iterrows(), total=query_df.shape[0]):\n",
    "        query_vector = vector_fn(row)\n",
    "        scores = Xtest @ query_vector\n",
    "        y_true = get_y_true(test_df, row.label)\n",
    "        ap = average_precision_score(y_true, scores)\n",
    "        aps.append(ap)\n",
    "    return np.array(aps)"
   ]
  },
  {
   "cell_type": "code",
   "execution_count": 48,
   "metadata": {},
   "outputs": [
    {
     "name": "stderr",
     "output_type": "stream",
     "text": [
      "100%|██████████| 313/313 [00:13<00:00, 23.55it/s]\n"
     ]
    }
   ],
   "source": [
    "text_ap = eval_method(query_df, get_vector_from_text)"
   ]
  },
  {
   "cell_type": "code",
   "execution_count": 50,
   "metadata": {},
   "outputs": [
    {
     "name": "stderr",
     "output_type": "stream",
     "text": [
      "100%|██████████| 313/313 [00:25<00:00, 12.41it/s]\n"
     ]
    }
   ],
   "source": [
    "svm_ap = eval_method(query_df, get_vector_from_svm)"
   ]
  },
  {
   "cell_type": "code",
   "execution_count": 55,
   "metadata": {},
   "outputs": [
    {
     "name": "stderr",
     "output_type": "stream",
     "text": [
      "100%|██████████| 313/313 [00:21<00:00, 14.51it/s]\n"
     ]
    }
   ],
   "source": [
    "lr_ap = eval_method(query_df, get_vector_from_logistic_reg)"
   ]
  },
  {
   "cell_type": "code",
   "execution_count": 58,
   "metadata": {},
   "outputs": [
    {
     "name": "stderr",
     "output_type": "stream",
     "text": [
      "100%|██████████| 313/313 [00:07<00:00, 44.14it/s]\n"
     ]
    }
   ],
   "source": [
    "knn_ap = eval_method(query_df, get_vector_from_knn)"
   ]
  },
  {
   "cell_type": "code",
   "execution_count": 59,
   "metadata": {},
   "outputs": [
    {
     "data": {
      "text/plain": [
       "svm_ap     0.092111\n",
       "text_ap    0.236096\n",
       "lr_ap      0.091111\n",
       "knn_ap     0.087740\n",
       "dtype: float64"
      ]
     },
     "execution_count": 59,
     "metadata": {},
     "output_type": "execute_result"
    }
   ],
   "source": [
    "query_df = query_df.assign(svm_ap=svm_ap, text_ap=text_ap, lr_ap=lr_ap, knn_ap=knn_ap)\n",
    "query_df[['svm_ap', 'text_ap', 'lr_ap', 'knn_ap']].mean()"
   ]
  },
  {
   "cell_type": "code",
   "execution_count": 106,
   "metadata": {},
   "outputs": [],
   "source": [
    "import importlib\n",
    "import playground.logistic_regression\n",
    "importlib.reload(playground.logistic_regression)\n",
    "from playground.logistic_regression import LinearModel\n",
    "\n",
    "def get_vector_svm_reg(row):\n",
    "    regularizer_vector  = get_vector_from_text(row)\n",
    "    clf = LinearModel(class_weight='balanced', label_loss_type='hinge_squared_loss', reg_norm_lambda=10.,\n",
    "                      verbose=False,\n",
    "                      regularizer_vector=regularizer_vector, reg_vector_lambda=1000.)\n",
    "    Xpos = row.normalized_vectors.reshape(1, -1)\n",
    "    X = np.concatenate([Xpos, Xneg], axis=0)\n",
    "    y = np.concatenate([np.ones(1), yneg])\n",
    "    clf.fit(X, y) # train\n",
    "    coeff = clf._module.weight.detach().cpu().numpy().reshape(-1)\n",
    "    return coeff"
   ]
  },
  {
   "cell_type": "code",
   "execution_count": 107,
   "metadata": {},
   "outputs": [
    {
     "name": "stderr",
     "output_type": "stream",
     "text": [
      "100%|██████████| 313/313 [01:47<00:00,  2.90it/s]\n"
     ]
    }
   ],
   "source": [
    "svm_reg_ap = eval_method(query_df, get_vector_svm_reg)"
   ]
  },
  {
   "cell_type": "code",
   "execution_count": 108,
   "metadata": {},
   "outputs": [
    {
     "data": {
      "text/plain": [
       "svm_ap        0.092111\n",
       "text_ap       0.236096\n",
       "lr_ap         0.091111\n",
       "knn_ap        0.087740\n",
       "svm_reg_ap    0.246876\n",
       "dtype: float64"
      ]
     },
     "execution_count": 108,
     "metadata": {},
     "output_type": "execute_result"
    }
   ],
   "source": [
    "query_df = query_df.assign(svm_ap=svm_ap, text_ap=text_ap, lr_ap=lr_ap, knn_ap=knn_ap, svm_reg_ap=svm_reg_ap)\n",
    "query_df[['svm_ap', 'text_ap', 'lr_ap', 'knn_ap', 'svm_reg_ap']].mean()"
   ]
  },
  {
   "cell_type": "code",
   "execution_count": null,
   "metadata": {},
   "outputs": [],
   "source": []
  },
  {
   "cell_type": "code",
   "execution_count": 78,
   "metadata": {},
   "outputs": [],
   "source": [
    "clf2 = svm.LinearSVC(class_weight='balanced', verbose=False, max_iter=10000, tol=1e-6, C=0.1)"
   ]
  },
  {
   "cell_type": "code",
   "execution_count": 85,
   "metadata": {},
   "outputs": [],
   "source": [
    "ys = (y == 2).astype('float')"
   ]
  },
  {
   "cell_type": "code",
   "execution_count": 94,
   "metadata": {},
   "outputs": [],
   "source": [
    "X = X.astype('float32')"
   ]
  },
  {
   "cell_type": "code",
   "execution_count": 95,
   "metadata": {},
   "outputs": [
    {
     "data": {
      "text/plain": [
       "[{'k': 'total_loss',\n",
       "  'loss': 492.4753375472613,\n",
       "  'grad_norm': 1010.6362915039062},\n",
       " {'k': 'total_loss',\n",
       "  'loss': 212.23198399093678,\n",
       "  'grad_norm': 140.1540985107422},\n",
       " {'k': 'total_loss',\n",
       "  'loss': 169.39621252645577,\n",
       "  'grad_norm': 119.19063568115234},\n",
       " {'k': 'total_loss',\n",
       "  'loss': 109.26077046315245,\n",
       "  'grad_norm': 226.56996154785156},\n",
       " {'k': 'total_loss',\n",
       "  'loss': 95.10838870593969,\n",
       "  'grad_norm': 123.43391418457031},\n",
       " {'k': 'total_loss',\n",
       "  'loss': 80.21454797855716,\n",
       "  'grad_norm': 37.132747650146484},\n",
       " {'k': 'total_loss',\n",
       "  'loss': 69.63078859392593,\n",
       "  'grad_norm': 24.307775497436523},\n",
       " {'k': 'total_loss',\n",
       "  'loss': 56.410178121361014,\n",
       "  'grad_norm': 21.143489837646484},\n",
       " {'k': 'total_loss',\n",
       "  'loss': 47.40404180311625,\n",
       "  'grad_norm': 23.538684844970703},\n",
       " {'k': 'total_loss',\n",
       "  'loss': 45.194081021262576,\n",
       "  'grad_norm': 19.654163360595703},\n",
       " {'k': 'total_loss',\n",
       "  'loss': 44.51854413228839,\n",
       "  'grad_norm': 13.927041053771973},\n",
       " {'k': 'total_loss',\n",
       "  'loss': 44.251566352470576,\n",
       "  'grad_norm': 7.194166660308838},\n",
       " {'k': 'total_loss',\n",
       "  'loss': 44.13097943763024,\n",
       "  'grad_norm': 1.3199721574783325},\n",
       " {'k': 'total_loss',\n",
       "  'loss': 44.09978804617667,\n",
       "  'grad_norm': 1.2742263078689575},\n",
       " {'k': 'total_loss',\n",
       "  'loss': 44.08654526313219,\n",
       "  'grad_norm': 0.6536557078361511},\n",
       " {'k': 'total_loss',\n",
       "  'loss': 44.08498963821195,\n",
       "  'grad_norm': 0.07525871694087982},\n",
       " {'k': 'total_loss',\n",
       "  'loss': 44.08493935077351,\n",
       "  'grad_norm': 0.0725221335887909},\n",
       " {'k': 'total_loss',\n",
       "  'loss': 44.08491636921974,\n",
       "  'grad_norm': 0.06936806440353394},\n",
       " {'k': 'total_loss',\n",
       "  'loss': 44.084863545739985,\n",
       "  'grad_norm': 0.012836301699280739},\n",
       " {'k': 'total_loss',\n",
       "  'loss': 44.08486434333014,\n",
       "  'grad_norm': 0.004301927518099546},\n",
       " {'k': 'total_loss',\n",
       "  'loss': 44.0848638525062,\n",
       "  'grad_norm': 0.009998002089560032},\n",
       " {'k': 'total_loss',\n",
       "  'loss': 44.08486504568538,\n",
       "  'grad_norm': 0.012409229762852192},\n",
       " {'k': 'total_loss',\n",
       "  'loss': 44.08486595046782,\n",
       "  'grad_norm': 0.012821969576179981},\n",
       " {'k': 'total_loss',\n",
       "  'loss': 44.084863545739985,\n",
       "  'grad_norm': 0.012836301699280739},\n",
       " {'k': 'total_loss',\n",
       "  'loss': 44.084863545739985,\n",
       "  'grad_norm': 0.012836301699280739},\n",
       " {'k': 'total_loss',\n",
       "  'loss': 44.084863545739985,\n",
       "  'grad_norm': 0.012836301699280739}]"
      ]
     },
     "execution_count": 95,
     "metadata": {},
     "output_type": "execute_result"
    }
   ],
   "source": [
    "clf.fit(X,ys)"
   ]
  },
  {
   "cell_type": "code",
   "execution_count": 133,
   "metadata": {},
   "outputs": [
    {
     "data": {
      "text/html": [
       "<div>\n",
       "<style scoped>\n",
       "    .dataframe tbody tr th:only-of-type {\n",
       "        vertical-align: middle;\n",
       "    }\n",
       "\n",
       "    .dataframe tbody tr th {\n",
       "        vertical-align: top;\n",
       "    }\n",
       "\n",
       "    .dataframe thead th {\n",
       "        text-align: right;\n",
       "    }\n",
       "</style>\n",
       "<table border=\"1\" class=\"dataframe\">\n",
       "  <thead>\n",
       "    <tr style=\"text-align: right;\">\n",
       "      <th></th>\n",
       "      <th>label</th>\n",
       "      <th>path</th>\n",
       "      <th>random_id</th>\n",
       "      <th>group_rank</th>\n",
       "      <th>split</th>\n",
       "      <th>text_ap</th>\n",
       "      <th>knn_ap</th>\n",
       "      <th>reg_ap</th>\n",
       "      <th>svm_ap</th>\n",
       "      <th>svm2_ap</th>\n",
       "      <th>svm_squared_ap</th>\n",
       "      <th>svm_reg_ap</th>\n",
       "    </tr>\n",
       "  </thead>\n",
       "  <tbody>\n",
       "    <tr>\n",
       "      <th>110</th>\n",
       "      <td>air_freshener</td>\n",
       "      <td>air_freshener/912a742e5b16421.png</td>\n",
       "      <td>2079</td>\n",
       "      <td>3</td>\n",
       "      <td>query</td>\n",
       "      <td>0.037112</td>\n",
       "      <td>0.011462</td>\n",
       "      <td>0.032078</td>\n",
       "      <td>0.011674</td>\n",
       "      <td>0.011502</td>\n",
       "      <td>0.011684</td>\n",
       "      <td>0.025183</td>\n",
       "    </tr>\n",
       "    <tr>\n",
       "      <th>132</th>\n",
       "      <td>air_freshener</td>\n",
       "      <td>air_freshener/af2cd7fef2f8477.png</td>\n",
       "      <td>913</td>\n",
       "      <td>1</td>\n",
       "      <td>query</td>\n",
       "      <td>0.037112</td>\n",
       "      <td>0.043908</td>\n",
       "      <td>0.032065</td>\n",
       "      <td>0.053525</td>\n",
       "      <td>0.044473</td>\n",
       "      <td>0.053093</td>\n",
       "      <td>0.025152</td>\n",
       "    </tr>\n",
       "    <tr>\n",
       "      <th>144</th>\n",
       "      <td>air_freshener</td>\n",
       "      <td>air_freshener/c175510563a849f.png</td>\n",
       "      <td>2369</td>\n",
       "      <td>4</td>\n",
       "      <td>query</td>\n",
       "      <td>0.037112</td>\n",
       "      <td>0.013797</td>\n",
       "      <td>0.032078</td>\n",
       "      <td>0.016202</td>\n",
       "      <td>0.016233</td>\n",
       "      <td>0.016015</td>\n",
       "      <td>0.025153</td>\n",
       "    </tr>\n",
       "    <tr>\n",
       "      <th>166</th>\n",
       "      <td>air_freshener</td>\n",
       "      <td>air_freshener/e5f1811779644f8.png</td>\n",
       "      <td>2953</td>\n",
       "      <td>5</td>\n",
       "      <td>query</td>\n",
       "      <td>0.037112</td>\n",
       "      <td>0.048782</td>\n",
       "      <td>0.032078</td>\n",
       "      <td>0.063500</td>\n",
       "      <td>0.049320</td>\n",
       "      <td>0.064074</td>\n",
       "      <td>0.025196</td>\n",
       "    </tr>\n",
       "    <tr>\n",
       "      <th>174</th>\n",
       "      <td>air_freshener</td>\n",
       "      <td>air_freshener/f30f586d53d9490.png</td>\n",
       "      <td>1734</td>\n",
       "      <td>2</td>\n",
       "      <td>query</td>\n",
       "      <td>0.037112</td>\n",
       "      <td>0.026023</td>\n",
       "      <td>0.032078</td>\n",
       "      <td>0.033975</td>\n",
       "      <td>0.025814</td>\n",
       "      <td>0.033882</td>\n",
       "      <td>0.025168</td>\n",
       "    </tr>\n",
       "    <tr>\n",
       "      <th>...</th>\n",
       "      <td>...</td>\n",
       "      <td>...</td>\n",
       "      <td>...</td>\n",
       "      <td>...</td>\n",
       "      <td>...</td>\n",
       "      <td>...</td>\n",
       "      <td>...</td>\n",
       "      <td>...</td>\n",
       "      <td>...</td>\n",
       "      <td>...</td>\n",
       "      <td>...</td>\n",
       "      <td>...</td>\n",
       "    </tr>\n",
       "    <tr>\n",
       "      <th>50077</th>\n",
       "      <td>ziploc_bag</td>\n",
       "      <td>ziploc_bag/02ebd941b75048c.png</td>\n",
       "      <td>469</td>\n",
       "      <td>1</td>\n",
       "      <td>query</td>\n",
       "      <td>0.421889</td>\n",
       "      <td>0.011251</td>\n",
       "      <td>0.416618</td>\n",
       "      <td>0.012339</td>\n",
       "      <td>0.011406</td>\n",
       "      <td>0.012279</td>\n",
       "      <td>0.410664</td>\n",
       "    </tr>\n",
       "    <tr>\n",
       "      <th>50086</th>\n",
       "      <td>ziploc_bag</td>\n",
       "      <td>ziploc_bag/0d66b8101246457.png</td>\n",
       "      <td>1913</td>\n",
       "      <td>5</td>\n",
       "      <td>query</td>\n",
       "      <td>0.421889</td>\n",
       "      <td>0.211507</td>\n",
       "      <td>0.416618</td>\n",
       "      <td>0.271601</td>\n",
       "      <td>0.211481</td>\n",
       "      <td>0.270142</td>\n",
       "      <td>0.410388</td>\n",
       "    </tr>\n",
       "    <tr>\n",
       "      <th>50162</th>\n",
       "      <td>ziploc_bag</td>\n",
       "      <td>ziploc_bag/67c864b8a64a4af.png</td>\n",
       "      <td>973</td>\n",
       "      <td>3</td>\n",
       "      <td>query</td>\n",
       "      <td>0.421889</td>\n",
       "      <td>0.046303</td>\n",
       "      <td>0.416618</td>\n",
       "      <td>0.048199</td>\n",
       "      <td>0.048654</td>\n",
       "      <td>0.048422</td>\n",
       "      <td>0.410673</td>\n",
       "    </tr>\n",
       "    <tr>\n",
       "      <th>50233</th>\n",
       "      <td>ziploc_bag</td>\n",
       "      <td>ziploc_bag/cd885ba732ab4c8.png</td>\n",
       "      <td>797</td>\n",
       "      <td>2</td>\n",
       "      <td>query</td>\n",
       "      <td>0.421889</td>\n",
       "      <td>0.027874</td>\n",
       "      <td>0.416618</td>\n",
       "      <td>0.039746</td>\n",
       "      <td>0.030127</td>\n",
       "      <td>0.039202</td>\n",
       "      <td>0.410494</td>\n",
       "    </tr>\n",
       "    <tr>\n",
       "      <th>50241</th>\n",
       "      <td>ziploc_bag</td>\n",
       "      <td>ziploc_bag/d2c88c07e0ee48c.png</td>\n",
       "      <td>1871</td>\n",
       "      <td>4</td>\n",
       "      <td>query</td>\n",
       "      <td>0.421889</td>\n",
       "      <td>0.103998</td>\n",
       "      <td>0.416618</td>\n",
       "      <td>0.158739</td>\n",
       "      <td>0.102036</td>\n",
       "      <td>0.156974</td>\n",
       "      <td>0.410576</td>\n",
       "    </tr>\n",
       "  </tbody>\n",
       "</table>\n",
       "<p>1565 rows × 12 columns</p>\n",
       "</div>"
      ],
      "text/plain": [
       "               label                               path  random_id  \\\n",
       "110    air_freshener  air_freshener/912a742e5b16421.png       2079   \n",
       "132    air_freshener  air_freshener/af2cd7fef2f8477.png        913   \n",
       "144    air_freshener  air_freshener/c175510563a849f.png       2369   \n",
       "166    air_freshener  air_freshener/e5f1811779644f8.png       2953   \n",
       "174    air_freshener  air_freshener/f30f586d53d9490.png       1734   \n",
       "...              ...                                ...        ...   \n",
       "50077     ziploc_bag     ziploc_bag/02ebd941b75048c.png        469   \n",
       "50086     ziploc_bag     ziploc_bag/0d66b8101246457.png       1913   \n",
       "50162     ziploc_bag     ziploc_bag/67c864b8a64a4af.png        973   \n",
       "50233     ziploc_bag     ziploc_bag/cd885ba732ab4c8.png        797   \n",
       "50241     ziploc_bag     ziploc_bag/d2c88c07e0ee48c.png       1871   \n",
       "\n",
       "       group_rank  split   text_ap    knn_ap    reg_ap    svm_ap   svm2_ap  \\\n",
       "110             3  query  0.037112  0.011462  0.032078  0.011674  0.011502   \n",
       "132             1  query  0.037112  0.043908  0.032065  0.053525  0.044473   \n",
       "144             4  query  0.037112  0.013797  0.032078  0.016202  0.016233   \n",
       "166             5  query  0.037112  0.048782  0.032078  0.063500  0.049320   \n",
       "174             2  query  0.037112  0.026023  0.032078  0.033975  0.025814   \n",
       "...           ...    ...       ...       ...       ...       ...       ...   \n",
       "50077           1  query  0.421889  0.011251  0.416618  0.012339  0.011406   \n",
       "50086           5  query  0.421889  0.211507  0.416618  0.271601  0.211481   \n",
       "50162           3  query  0.421889  0.046303  0.416618  0.048199  0.048654   \n",
       "50233           2  query  0.421889  0.027874  0.416618  0.039746  0.030127   \n",
       "50241           4  query  0.421889  0.103998  0.416618  0.158739  0.102036   \n",
       "\n",
       "       svm_squared_ap  svm_reg_ap  \n",
       "110          0.011684    0.025183  \n",
       "132          0.053093    0.025152  \n",
       "144          0.016015    0.025153  \n",
       "166          0.064074    0.025196  \n",
       "174          0.033882    0.025168  \n",
       "...               ...         ...  \n",
       "50077        0.012279    0.410664  \n",
       "50086        0.270142    0.410388  \n",
       "50162        0.048422    0.410673  \n",
       "50233        0.039202    0.410494  \n",
       "50241        0.156974    0.410576  \n",
       "\n",
       "[1565 rows x 12 columns]"
      ]
     },
     "execution_count": 133,
     "metadata": {},
     "output_type": "execute_result"
    }
   ],
   "source": []
  },
  {
   "cell_type": "code",
   "execution_count": 99,
   "metadata": {},
   "outputs": [
    {
     "data": {
      "text/plain": [
       "array([50, 50, 50])"
      ]
     },
     "execution_count": 99,
     "metadata": {},
     "output_type": "execute_result"
    }
   ],
   "source": [
    "np.bincount(y)"
   ]
  },
  {
   "cell_type": "code",
   "execution_count": 100,
   "metadata": {},
   "outputs": [
    {
     "data": {
      "text/plain": [
       "array([1., 1., 1.])"
      ]
     },
     "execution_count": 100,
     "metadata": {},
     "output_type": "execute_result"
    }
   ],
   "source": [
    "y.shape[0] / (3 * np.bincount(y))"
   ]
  },
  {
   "cell_type": "code",
   "execution_count": 105,
   "metadata": {},
   "outputs": [],
   "source": [
    "mys = np.array([1, 0, 0, 0, 0, 0])"
   ]
  },
  {
   "cell_type": "code",
   "execution_count": 106,
   "metadata": {},
   "outputs": [
    {
     "data": {
      "text/plain": [
       "array([0.6, 3. ])"
      ]
     },
     "execution_count": 106,
     "metadata": {},
     "output_type": "execute_result"
    }
   ],
   "source": [
    "mys.shape[0] / (2 * np.bincount(mys))"
   ]
  },
  {
   "cell_type": "code",
   "execution_count": 108,
   "metadata": {},
   "outputs": [
    {
     "data": {
      "text/plain": [
       "6.0"
      ]
     },
     "execution_count": 108,
     "metadata": {},
     "output_type": "execute_result"
    }
   ],
   "source": []
  },
  {
   "cell_type": "code",
   "execution_count": null,
   "metadata": {},
   "outputs": [],
   "source": []
  },
  {
   "cell_type": "code",
   "execution_count": 96,
   "metadata": {},
   "outputs": [
    {
     "data": {
      "text/html": [
       "<style>#sk-container-id-1 {\n",
       "  /* Definition of color scheme common for light and dark mode */\n",
       "  --sklearn-color-text: black;\n",
       "  --sklearn-color-line: gray;\n",
       "  /* Definition of color scheme for unfitted estimators */\n",
       "  --sklearn-color-unfitted-level-0: #fff5e6;\n",
       "  --sklearn-color-unfitted-level-1: #f6e4d2;\n",
       "  --sklearn-color-unfitted-level-2: #ffe0b3;\n",
       "  --sklearn-color-unfitted-level-3: chocolate;\n",
       "  /* Definition of color scheme for fitted estimators */\n",
       "  --sklearn-color-fitted-level-0: #f0f8ff;\n",
       "  --sklearn-color-fitted-level-1: #d4ebff;\n",
       "  --sklearn-color-fitted-level-2: #b3dbfd;\n",
       "  --sklearn-color-fitted-level-3: cornflowerblue;\n",
       "\n",
       "  /* Specific color for light theme */\n",
       "  --sklearn-color-text-on-default-background: var(--sg-text-color, var(--theme-code-foreground, var(--jp-content-font-color1, black)));\n",
       "  --sklearn-color-background: var(--sg-background-color, var(--theme-background, var(--jp-layout-color0, white)));\n",
       "  --sklearn-color-border-box: var(--sg-text-color, var(--theme-code-foreground, var(--jp-content-font-color1, black)));\n",
       "  --sklearn-color-icon: #696969;\n",
       "\n",
       "  @media (prefers-color-scheme: dark) {\n",
       "    /* Redefinition of color scheme for dark theme */\n",
       "    --sklearn-color-text-on-default-background: var(--sg-text-color, var(--theme-code-foreground, var(--jp-content-font-color1, white)));\n",
       "    --sklearn-color-background: var(--sg-background-color, var(--theme-background, var(--jp-layout-color0, #111)));\n",
       "    --sklearn-color-border-box: var(--sg-text-color, var(--theme-code-foreground, var(--jp-content-font-color1, white)));\n",
       "    --sklearn-color-icon: #878787;\n",
       "  }\n",
       "}\n",
       "\n",
       "#sk-container-id-1 {\n",
       "  color: var(--sklearn-color-text);\n",
       "}\n",
       "\n",
       "#sk-container-id-1 pre {\n",
       "  padding: 0;\n",
       "}\n",
       "\n",
       "#sk-container-id-1 input.sk-hidden--visually {\n",
       "  border: 0;\n",
       "  clip: rect(1px 1px 1px 1px);\n",
       "  clip: rect(1px, 1px, 1px, 1px);\n",
       "  height: 1px;\n",
       "  margin: -1px;\n",
       "  overflow: hidden;\n",
       "  padding: 0;\n",
       "  position: absolute;\n",
       "  width: 1px;\n",
       "}\n",
       "\n",
       "#sk-container-id-1 div.sk-dashed-wrapped {\n",
       "  border: 1px dashed var(--sklearn-color-line);\n",
       "  margin: 0 0.4em 0.5em 0.4em;\n",
       "  box-sizing: border-box;\n",
       "  padding-bottom: 0.4em;\n",
       "  background-color: var(--sklearn-color-background);\n",
       "}\n",
       "\n",
       "#sk-container-id-1 div.sk-container {\n",
       "  /* jupyter's `normalize.less` sets `[hidden] { display: none; }`\n",
       "     but bootstrap.min.css set `[hidden] { display: none !important; }`\n",
       "     so we also need the `!important` here to be able to override the\n",
       "     default hidden behavior on the sphinx rendered scikit-learn.org.\n",
       "     See: https://github.com/scikit-learn/scikit-learn/issues/21755 */\n",
       "  display: inline-block !important;\n",
       "  position: relative;\n",
       "}\n",
       "\n",
       "#sk-container-id-1 div.sk-text-repr-fallback {\n",
       "  display: none;\n",
       "}\n",
       "\n",
       "div.sk-parallel-item,\n",
       "div.sk-serial,\n",
       "div.sk-item {\n",
       "  /* draw centered vertical line to link estimators */\n",
       "  background-image: linear-gradient(var(--sklearn-color-text-on-default-background), var(--sklearn-color-text-on-default-background));\n",
       "  background-size: 2px 100%;\n",
       "  background-repeat: no-repeat;\n",
       "  background-position: center center;\n",
       "}\n",
       "\n",
       "/* Parallel-specific style estimator block */\n",
       "\n",
       "#sk-container-id-1 div.sk-parallel-item::after {\n",
       "  content: \"\";\n",
       "  width: 100%;\n",
       "  border-bottom: 2px solid var(--sklearn-color-text-on-default-background);\n",
       "  flex-grow: 1;\n",
       "}\n",
       "\n",
       "#sk-container-id-1 div.sk-parallel {\n",
       "  display: flex;\n",
       "  align-items: stretch;\n",
       "  justify-content: center;\n",
       "  background-color: var(--sklearn-color-background);\n",
       "  position: relative;\n",
       "}\n",
       "\n",
       "#sk-container-id-1 div.sk-parallel-item {\n",
       "  display: flex;\n",
       "  flex-direction: column;\n",
       "}\n",
       "\n",
       "#sk-container-id-1 div.sk-parallel-item:first-child::after {\n",
       "  align-self: flex-end;\n",
       "  width: 50%;\n",
       "}\n",
       "\n",
       "#sk-container-id-1 div.sk-parallel-item:last-child::after {\n",
       "  align-self: flex-start;\n",
       "  width: 50%;\n",
       "}\n",
       "\n",
       "#sk-container-id-1 div.sk-parallel-item:only-child::after {\n",
       "  width: 0;\n",
       "}\n",
       "\n",
       "/* Serial-specific style estimator block */\n",
       "\n",
       "#sk-container-id-1 div.sk-serial {\n",
       "  display: flex;\n",
       "  flex-direction: column;\n",
       "  align-items: center;\n",
       "  background-color: var(--sklearn-color-background);\n",
       "  padding-right: 1em;\n",
       "  padding-left: 1em;\n",
       "}\n",
       "\n",
       "\n",
       "/* Toggleable style: style used for estimator/Pipeline/ColumnTransformer box that is\n",
       "clickable and can be expanded/collapsed.\n",
       "- Pipeline and ColumnTransformer use this feature and define the default style\n",
       "- Estimators will overwrite some part of the style using the `sk-estimator` class\n",
       "*/\n",
       "\n",
       "/* Pipeline and ColumnTransformer style (default) */\n",
       "\n",
       "#sk-container-id-1 div.sk-toggleable {\n",
       "  /* Default theme specific background. It is overwritten whether we have a\n",
       "  specific estimator or a Pipeline/ColumnTransformer */\n",
       "  background-color: var(--sklearn-color-background);\n",
       "}\n",
       "\n",
       "/* Toggleable label */\n",
       "#sk-container-id-1 label.sk-toggleable__label {\n",
       "  cursor: pointer;\n",
       "  display: block;\n",
       "  width: 100%;\n",
       "  margin-bottom: 0;\n",
       "  padding: 0.5em;\n",
       "  box-sizing: border-box;\n",
       "  text-align: center;\n",
       "}\n",
       "\n",
       "#sk-container-id-1 label.sk-toggleable__label-arrow:before {\n",
       "  /* Arrow on the left of the label */\n",
       "  content: \"▸\";\n",
       "  float: left;\n",
       "  margin-right: 0.25em;\n",
       "  color: var(--sklearn-color-icon);\n",
       "}\n",
       "\n",
       "#sk-container-id-1 label.sk-toggleable__label-arrow:hover:before {\n",
       "  color: var(--sklearn-color-text);\n",
       "}\n",
       "\n",
       "/* Toggleable content - dropdown */\n",
       "\n",
       "#sk-container-id-1 div.sk-toggleable__content {\n",
       "  max-height: 0;\n",
       "  max-width: 0;\n",
       "  overflow: hidden;\n",
       "  text-align: left;\n",
       "  /* unfitted */\n",
       "  background-color: var(--sklearn-color-unfitted-level-0);\n",
       "}\n",
       "\n",
       "#sk-container-id-1 div.sk-toggleable__content.fitted {\n",
       "  /* fitted */\n",
       "  background-color: var(--sklearn-color-fitted-level-0);\n",
       "}\n",
       "\n",
       "#sk-container-id-1 div.sk-toggleable__content pre {\n",
       "  margin: 0.2em;\n",
       "  border-radius: 0.25em;\n",
       "  color: var(--sklearn-color-text);\n",
       "  /* unfitted */\n",
       "  background-color: var(--sklearn-color-unfitted-level-0);\n",
       "}\n",
       "\n",
       "#sk-container-id-1 div.sk-toggleable__content.fitted pre {\n",
       "  /* unfitted */\n",
       "  background-color: var(--sklearn-color-fitted-level-0);\n",
       "}\n",
       "\n",
       "#sk-container-id-1 input.sk-toggleable__control:checked~div.sk-toggleable__content {\n",
       "  /* Expand drop-down */\n",
       "  max-height: 200px;\n",
       "  max-width: 100%;\n",
       "  overflow: auto;\n",
       "}\n",
       "\n",
       "#sk-container-id-1 input.sk-toggleable__control:checked~label.sk-toggleable__label-arrow:before {\n",
       "  content: \"▾\";\n",
       "}\n",
       "\n",
       "/* Pipeline/ColumnTransformer-specific style */\n",
       "\n",
       "#sk-container-id-1 div.sk-label input.sk-toggleable__control:checked~label.sk-toggleable__label {\n",
       "  color: var(--sklearn-color-text);\n",
       "  background-color: var(--sklearn-color-unfitted-level-2);\n",
       "}\n",
       "\n",
       "#sk-container-id-1 div.sk-label.fitted input.sk-toggleable__control:checked~label.sk-toggleable__label {\n",
       "  background-color: var(--sklearn-color-fitted-level-2);\n",
       "}\n",
       "\n",
       "/* Estimator-specific style */\n",
       "\n",
       "/* Colorize estimator box */\n",
       "#sk-container-id-1 div.sk-estimator input.sk-toggleable__control:checked~label.sk-toggleable__label {\n",
       "  /* unfitted */\n",
       "  background-color: var(--sklearn-color-unfitted-level-2);\n",
       "}\n",
       "\n",
       "#sk-container-id-1 div.sk-estimator.fitted input.sk-toggleable__control:checked~label.sk-toggleable__label {\n",
       "  /* fitted */\n",
       "  background-color: var(--sklearn-color-fitted-level-2);\n",
       "}\n",
       "\n",
       "#sk-container-id-1 div.sk-label label.sk-toggleable__label,\n",
       "#sk-container-id-1 div.sk-label label {\n",
       "  /* The background is the default theme color */\n",
       "  color: var(--sklearn-color-text-on-default-background);\n",
       "}\n",
       "\n",
       "/* On hover, darken the color of the background */\n",
       "#sk-container-id-1 div.sk-label:hover label.sk-toggleable__label {\n",
       "  color: var(--sklearn-color-text);\n",
       "  background-color: var(--sklearn-color-unfitted-level-2);\n",
       "}\n",
       "\n",
       "/* Label box, darken color on hover, fitted */\n",
       "#sk-container-id-1 div.sk-label.fitted:hover label.sk-toggleable__label.fitted {\n",
       "  color: var(--sklearn-color-text);\n",
       "  background-color: var(--sklearn-color-fitted-level-2);\n",
       "}\n",
       "\n",
       "/* Estimator label */\n",
       "\n",
       "#sk-container-id-1 div.sk-label label {\n",
       "  font-family: monospace;\n",
       "  font-weight: bold;\n",
       "  display: inline-block;\n",
       "  line-height: 1.2em;\n",
       "}\n",
       "\n",
       "#sk-container-id-1 div.sk-label-container {\n",
       "  text-align: center;\n",
       "}\n",
       "\n",
       "/* Estimator-specific */\n",
       "#sk-container-id-1 div.sk-estimator {\n",
       "  font-family: monospace;\n",
       "  border: 1px dotted var(--sklearn-color-border-box);\n",
       "  border-radius: 0.25em;\n",
       "  box-sizing: border-box;\n",
       "  margin-bottom: 0.5em;\n",
       "  /* unfitted */\n",
       "  background-color: var(--sklearn-color-unfitted-level-0);\n",
       "}\n",
       "\n",
       "#sk-container-id-1 div.sk-estimator.fitted {\n",
       "  /* fitted */\n",
       "  background-color: var(--sklearn-color-fitted-level-0);\n",
       "}\n",
       "\n",
       "/* on hover */\n",
       "#sk-container-id-1 div.sk-estimator:hover {\n",
       "  /* unfitted */\n",
       "  background-color: var(--sklearn-color-unfitted-level-2);\n",
       "}\n",
       "\n",
       "#sk-container-id-1 div.sk-estimator.fitted:hover {\n",
       "  /* fitted */\n",
       "  background-color: var(--sklearn-color-fitted-level-2);\n",
       "}\n",
       "\n",
       "/* Specification for estimator info (e.g. \"i\" and \"?\") */\n",
       "\n",
       "/* Common style for \"i\" and \"?\" */\n",
       "\n",
       ".sk-estimator-doc-link,\n",
       "a:link.sk-estimator-doc-link,\n",
       "a:visited.sk-estimator-doc-link {\n",
       "  float: right;\n",
       "  font-size: smaller;\n",
       "  line-height: 1em;\n",
       "  font-family: monospace;\n",
       "  background-color: var(--sklearn-color-background);\n",
       "  border-radius: 1em;\n",
       "  height: 1em;\n",
       "  width: 1em;\n",
       "  text-decoration: none !important;\n",
       "  margin-left: 1ex;\n",
       "  /* unfitted */\n",
       "  border: var(--sklearn-color-unfitted-level-1) 1pt solid;\n",
       "  color: var(--sklearn-color-unfitted-level-1);\n",
       "}\n",
       "\n",
       ".sk-estimator-doc-link.fitted,\n",
       "a:link.sk-estimator-doc-link.fitted,\n",
       "a:visited.sk-estimator-doc-link.fitted {\n",
       "  /* fitted */\n",
       "  border: var(--sklearn-color-fitted-level-1) 1pt solid;\n",
       "  color: var(--sklearn-color-fitted-level-1);\n",
       "}\n",
       "\n",
       "/* On hover */\n",
       "div.sk-estimator:hover .sk-estimator-doc-link:hover,\n",
       ".sk-estimator-doc-link:hover,\n",
       "div.sk-label-container:hover .sk-estimator-doc-link:hover,\n",
       ".sk-estimator-doc-link:hover {\n",
       "  /* unfitted */\n",
       "  background-color: var(--sklearn-color-unfitted-level-3);\n",
       "  color: var(--sklearn-color-background);\n",
       "  text-decoration: none;\n",
       "}\n",
       "\n",
       "div.sk-estimator.fitted:hover .sk-estimator-doc-link.fitted:hover,\n",
       ".sk-estimator-doc-link.fitted:hover,\n",
       "div.sk-label-container:hover .sk-estimator-doc-link.fitted:hover,\n",
       ".sk-estimator-doc-link.fitted:hover {\n",
       "  /* fitted */\n",
       "  background-color: var(--sklearn-color-fitted-level-3);\n",
       "  color: var(--sklearn-color-background);\n",
       "  text-decoration: none;\n",
       "}\n",
       "\n",
       "/* Span, style for the box shown on hovering the info icon */\n",
       ".sk-estimator-doc-link span {\n",
       "  display: none;\n",
       "  z-index: 9999;\n",
       "  position: relative;\n",
       "  font-weight: normal;\n",
       "  right: .2ex;\n",
       "  padding: .5ex;\n",
       "  margin: .5ex;\n",
       "  width: min-content;\n",
       "  min-width: 20ex;\n",
       "  max-width: 50ex;\n",
       "  color: var(--sklearn-color-text);\n",
       "  box-shadow: 2pt 2pt 4pt #999;\n",
       "  /* unfitted */\n",
       "  background: var(--sklearn-color-unfitted-level-0);\n",
       "  border: .5pt solid var(--sklearn-color-unfitted-level-3);\n",
       "}\n",
       "\n",
       ".sk-estimator-doc-link.fitted span {\n",
       "  /* fitted */\n",
       "  background: var(--sklearn-color-fitted-level-0);\n",
       "  border: var(--sklearn-color-fitted-level-3);\n",
       "}\n",
       "\n",
       ".sk-estimator-doc-link:hover span {\n",
       "  display: block;\n",
       "}\n",
       "\n",
       "/* \"?\"-specific style due to the `<a>` HTML tag */\n",
       "\n",
       "#sk-container-id-1 a.estimator_doc_link {\n",
       "  float: right;\n",
       "  font-size: 1rem;\n",
       "  line-height: 1em;\n",
       "  font-family: monospace;\n",
       "  background-color: var(--sklearn-color-background);\n",
       "  border-radius: 1rem;\n",
       "  height: 1rem;\n",
       "  width: 1rem;\n",
       "  text-decoration: none;\n",
       "  /* unfitted */\n",
       "  color: var(--sklearn-color-unfitted-level-1);\n",
       "  border: var(--sklearn-color-unfitted-level-1) 1pt solid;\n",
       "}\n",
       "\n",
       "#sk-container-id-1 a.estimator_doc_link.fitted {\n",
       "  /* fitted */\n",
       "  border: var(--sklearn-color-fitted-level-1) 1pt solid;\n",
       "  color: var(--sklearn-color-fitted-level-1);\n",
       "}\n",
       "\n",
       "/* On hover */\n",
       "#sk-container-id-1 a.estimator_doc_link:hover {\n",
       "  /* unfitted */\n",
       "  background-color: var(--sklearn-color-unfitted-level-3);\n",
       "  color: var(--sklearn-color-background);\n",
       "  text-decoration: none;\n",
       "}\n",
       "\n",
       "#sk-container-id-1 a.estimator_doc_link.fitted:hover {\n",
       "  /* fitted */\n",
       "  background-color: var(--sklearn-color-fitted-level-3);\n",
       "}\n",
       "</style><div id=\"sk-container-id-1\" class=\"sk-top-container\"><div class=\"sk-text-repr-fallback\"><pre>LinearSVC(C=0.1, class_weight=&#x27;balanced&#x27;, max_iter=10000, tol=1e-06,\n",
       "          verbose=False)</pre><b>In a Jupyter environment, please rerun this cell to show the HTML representation or trust the notebook. <br />On GitHub, the HTML representation is unable to render, please try loading this page with nbviewer.org.</b></div><div class=\"sk-container\" hidden><div class=\"sk-item\"><div class=\"sk-estimator fitted sk-toggleable\"><input class=\"sk-toggleable__control sk-hidden--visually\" id=\"sk-estimator-id-1\" type=\"checkbox\" checked><label for=\"sk-estimator-id-1\" class=\"sk-toggleable__label fitted sk-toggleable__label-arrow fitted\">&nbsp;&nbsp;LinearSVC<a class=\"sk-estimator-doc-link fitted\" rel=\"noreferrer\" target=\"_blank\" href=\"https://scikit-learn.org/1.5/modules/generated/sklearn.svm.LinearSVC.html\">?<span>Documentation for LinearSVC</span></a><span class=\"sk-estimator-doc-link fitted\">i<span>Fitted</span></span></label><div class=\"sk-toggleable__content fitted\"><pre>LinearSVC(C=0.1, class_weight=&#x27;balanced&#x27;, max_iter=10000, tol=1e-06,\n",
       "          verbose=False)</pre></div> </div></div></div></div>"
      ],
      "text/plain": [
       "LinearSVC(C=0.1, class_weight='balanced', max_iter=10000, tol=1e-06,\n",
       "          verbose=False)"
      ]
     },
     "execution_count": 96,
     "metadata": {},
     "output_type": "execute_result"
    }
   ],
   "source": [
    "clf2.fit(X,ys)"
   ]
  },
  {
   "cell_type": "code",
   "execution_count": 97,
   "metadata": {},
   "outputs": [
    {
     "data": {
      "text/plain": [
       "0.9970782542372485"
      ]
     },
     "execution_count": 97,
     "metadata": {},
     "output_type": "execute_result"
    }
   ],
   "source": [
    "average_precision_score(ys, clf.decision_function(X))"
   ]
  },
  {
   "cell_type": "code",
   "execution_count": 98,
   "metadata": {},
   "outputs": [
    {
     "data": {
      "text/plain": [
       "0.9948175232429083"
      ]
     },
     "execution_count": 98,
     "metadata": {},
     "output_type": "execute_result"
    }
   ],
   "source": [
    "average_precision_score(ys, clf2.decision_function(X))"
   ]
  },
  {
   "cell_type": "code",
   "execution_count": null,
   "metadata": {},
   "outputs": [],
   "source": []
  },
  {
   "cell_type": "code",
   "execution_count": 126,
   "metadata": {},
   "outputs": [
    {
     "data": {
      "text/plain": [
       "tensor([0.])"
      ]
     },
     "execution_count": 126,
     "metadata": {},
     "output_type": "execute_result"
    }
   ],
   "source": [
    "F.cosine_similarity(torch.tensor([1., 0.]).reshape(1,-1), torch.tensor([0., 1.]).reshape(1,-1))"
   ]
  },
  {
   "cell_type": "code",
   "execution_count": 131,
   "metadata": {},
   "outputs": [
    {
     "data": {
      "text/html": [
       "<div>\n",
       "<style scoped>\n",
       "    .dataframe tbody tr th:only-of-type {\n",
       "        vertical-align: middle;\n",
       "    }\n",
       "\n",
       "    .dataframe tbody tr th {\n",
       "        vertical-align: top;\n",
       "    }\n",
       "\n",
       "    .dataframe thead th {\n",
       "        text-align: right;\n",
       "    }\n",
       "</style>\n",
       "<table border=\"1\" class=\"dataframe\">\n",
       "  <thead>\n",
       "    <tr style=\"text-align: right;\">\n",
       "      <th></th>\n",
       "      <th>label</th>\n",
       "      <th>path</th>\n",
       "      <th>random_id</th>\n",
       "      <th>group_rank</th>\n",
       "      <th>split</th>\n",
       "      <th>text_ap</th>\n",
       "      <th>knn_ap</th>\n",
       "      <th>reg_ap</th>\n",
       "      <th>svm_ap</th>\n",
       "      <th>svm2_ap</th>\n",
       "      <th>svm_squared_ap</th>\n",
       "      <th>svm_reg_ap</th>\n",
       "    </tr>\n",
       "  </thead>\n",
       "  <tbody>\n",
       "    <tr>\n",
       "      <th>110</th>\n",
       "      <td>air_freshener</td>\n",
       "      <td>air_freshener/912a742e5b16421.png</td>\n",
       "      <td>2079</td>\n",
       "      <td>3</td>\n",
       "      <td>query</td>\n",
       "      <td>0.037112</td>\n",
       "      <td>0.011462</td>\n",
       "      <td>0.032078</td>\n",
       "      <td>0.011674</td>\n",
       "      <td>0.011502</td>\n",
       "      <td>0.011684</td>\n",
       "      <td>0.025183</td>\n",
       "    </tr>\n",
       "    <tr>\n",
       "      <th>132</th>\n",
       "      <td>air_freshener</td>\n",
       "      <td>air_freshener/af2cd7fef2f8477.png</td>\n",
       "      <td>913</td>\n",
       "      <td>1</td>\n",
       "      <td>query</td>\n",
       "      <td>0.037112</td>\n",
       "      <td>0.043908</td>\n",
       "      <td>0.032065</td>\n",
       "      <td>0.053525</td>\n",
       "      <td>0.044473</td>\n",
       "      <td>0.053093</td>\n",
       "      <td>0.025152</td>\n",
       "    </tr>\n",
       "    <tr>\n",
       "      <th>144</th>\n",
       "      <td>air_freshener</td>\n",
       "      <td>air_freshener/c175510563a849f.png</td>\n",
       "      <td>2369</td>\n",
       "      <td>4</td>\n",
       "      <td>query</td>\n",
       "      <td>0.037112</td>\n",
       "      <td>0.013797</td>\n",
       "      <td>0.032078</td>\n",
       "      <td>0.016202</td>\n",
       "      <td>0.016233</td>\n",
       "      <td>0.016015</td>\n",
       "      <td>0.025153</td>\n",
       "    </tr>\n",
       "    <tr>\n",
       "      <th>166</th>\n",
       "      <td>air_freshener</td>\n",
       "      <td>air_freshener/e5f1811779644f8.png</td>\n",
       "      <td>2953</td>\n",
       "      <td>5</td>\n",
       "      <td>query</td>\n",
       "      <td>0.037112</td>\n",
       "      <td>0.048782</td>\n",
       "      <td>0.032078</td>\n",
       "      <td>0.063500</td>\n",
       "      <td>0.049320</td>\n",
       "      <td>0.064074</td>\n",
       "      <td>0.025196</td>\n",
       "    </tr>\n",
       "    <tr>\n",
       "      <th>174</th>\n",
       "      <td>air_freshener</td>\n",
       "      <td>air_freshener/f30f586d53d9490.png</td>\n",
       "      <td>1734</td>\n",
       "      <td>2</td>\n",
       "      <td>query</td>\n",
       "      <td>0.037112</td>\n",
       "      <td>0.026023</td>\n",
       "      <td>0.032078</td>\n",
       "      <td>0.033975</td>\n",
       "      <td>0.025814</td>\n",
       "      <td>0.033882</td>\n",
       "      <td>0.025168</td>\n",
       "    </tr>\n",
       "    <tr>\n",
       "      <th>...</th>\n",
       "      <td>...</td>\n",
       "      <td>...</td>\n",
       "      <td>...</td>\n",
       "      <td>...</td>\n",
       "      <td>...</td>\n",
       "      <td>...</td>\n",
       "      <td>...</td>\n",
       "      <td>...</td>\n",
       "      <td>...</td>\n",
       "      <td>...</td>\n",
       "      <td>...</td>\n",
       "      <td>...</td>\n",
       "    </tr>\n",
       "    <tr>\n",
       "      <th>50077</th>\n",
       "      <td>ziploc_bag</td>\n",
       "      <td>ziploc_bag/02ebd941b75048c.png</td>\n",
       "      <td>469</td>\n",
       "      <td>1</td>\n",
       "      <td>query</td>\n",
       "      <td>0.421889</td>\n",
       "      <td>0.011251</td>\n",
       "      <td>0.416618</td>\n",
       "      <td>0.012339</td>\n",
       "      <td>0.011406</td>\n",
       "      <td>0.012279</td>\n",
       "      <td>0.410664</td>\n",
       "    </tr>\n",
       "    <tr>\n",
       "      <th>50086</th>\n",
       "      <td>ziploc_bag</td>\n",
       "      <td>ziploc_bag/0d66b8101246457.png</td>\n",
       "      <td>1913</td>\n",
       "      <td>5</td>\n",
       "      <td>query</td>\n",
       "      <td>0.421889</td>\n",
       "      <td>0.211507</td>\n",
       "      <td>0.416618</td>\n",
       "      <td>0.271601</td>\n",
       "      <td>0.211481</td>\n",
       "      <td>0.270142</td>\n",
       "      <td>0.410388</td>\n",
       "    </tr>\n",
       "    <tr>\n",
       "      <th>50162</th>\n",
       "      <td>ziploc_bag</td>\n",
       "      <td>ziploc_bag/67c864b8a64a4af.png</td>\n",
       "      <td>973</td>\n",
       "      <td>3</td>\n",
       "      <td>query</td>\n",
       "      <td>0.421889</td>\n",
       "      <td>0.046303</td>\n",
       "      <td>0.416618</td>\n",
       "      <td>0.048199</td>\n",
       "      <td>0.048654</td>\n",
       "      <td>0.048422</td>\n",
       "      <td>0.410673</td>\n",
       "    </tr>\n",
       "    <tr>\n",
       "      <th>50233</th>\n",
       "      <td>ziploc_bag</td>\n",
       "      <td>ziploc_bag/cd885ba732ab4c8.png</td>\n",
       "      <td>797</td>\n",
       "      <td>2</td>\n",
       "      <td>query</td>\n",
       "      <td>0.421889</td>\n",
       "      <td>0.027874</td>\n",
       "      <td>0.416618</td>\n",
       "      <td>0.039746</td>\n",
       "      <td>0.030127</td>\n",
       "      <td>0.039202</td>\n",
       "      <td>0.410494</td>\n",
       "    </tr>\n",
       "    <tr>\n",
       "      <th>50241</th>\n",
       "      <td>ziploc_bag</td>\n",
       "      <td>ziploc_bag/d2c88c07e0ee48c.png</td>\n",
       "      <td>1871</td>\n",
       "      <td>4</td>\n",
       "      <td>query</td>\n",
       "      <td>0.421889</td>\n",
       "      <td>0.103998</td>\n",
       "      <td>0.416618</td>\n",
       "      <td>0.158739</td>\n",
       "      <td>0.102036</td>\n",
       "      <td>0.156974</td>\n",
       "      <td>0.410576</td>\n",
       "    </tr>\n",
       "  </tbody>\n",
       "</table>\n",
       "<p>1565 rows × 12 columns</p>\n",
       "</div>"
      ],
      "text/plain": [
       "               label                               path  random_id  \\\n",
       "110    air_freshener  air_freshener/912a742e5b16421.png       2079   \n",
       "132    air_freshener  air_freshener/af2cd7fef2f8477.png        913   \n",
       "144    air_freshener  air_freshener/c175510563a849f.png       2369   \n",
       "166    air_freshener  air_freshener/e5f1811779644f8.png       2953   \n",
       "174    air_freshener  air_freshener/f30f586d53d9490.png       1734   \n",
       "...              ...                                ...        ...   \n",
       "50077     ziploc_bag     ziploc_bag/02ebd941b75048c.png        469   \n",
       "50086     ziploc_bag     ziploc_bag/0d66b8101246457.png       1913   \n",
       "50162     ziploc_bag     ziploc_bag/67c864b8a64a4af.png        973   \n",
       "50233     ziploc_bag     ziploc_bag/cd885ba732ab4c8.png        797   \n",
       "50241     ziploc_bag     ziploc_bag/d2c88c07e0ee48c.png       1871   \n",
       "\n",
       "       group_rank  split   text_ap    knn_ap    reg_ap    svm_ap   svm2_ap  \\\n",
       "110             3  query  0.037112  0.011462  0.032078  0.011674  0.011502   \n",
       "132             1  query  0.037112  0.043908  0.032065  0.053525  0.044473   \n",
       "144             4  query  0.037112  0.013797  0.032078  0.016202  0.016233   \n",
       "166             5  query  0.037112  0.048782  0.032078  0.063500  0.049320   \n",
       "174             2  query  0.037112  0.026023  0.032078  0.033975  0.025814   \n",
       "...           ...    ...       ...       ...       ...       ...       ...   \n",
       "50077           1  query  0.421889  0.011251  0.416618  0.012339  0.011406   \n",
       "50086           5  query  0.421889  0.211507  0.416618  0.271601  0.211481   \n",
       "50162           3  query  0.421889  0.046303  0.416618  0.048199  0.048654   \n",
       "50233           2  query  0.421889  0.027874  0.416618  0.039746  0.030127   \n",
       "50241           4  query  0.421889  0.103998  0.416618  0.158739  0.102036   \n",
       "\n",
       "       svm_squared_ap  svm_reg_ap  \n",
       "110          0.011684    0.025183  \n",
       "132          0.053093    0.025152  \n",
       "144          0.016015    0.025153  \n",
       "166          0.064074    0.025196  \n",
       "174          0.033882    0.025168  \n",
       "...               ...         ...  \n",
       "50077        0.012279    0.410664  \n",
       "50086        0.270142    0.410388  \n",
       "50162        0.048422    0.410673  \n",
       "50233        0.039202    0.410494  \n",
       "50241        0.156974    0.410576  \n",
       "\n",
       "[1565 rows x 12 columns]"
      ]
     },
     "execution_count": 131,
     "metadata": {},
     "output_type": "execute_result"
    }
   ],
   "source": [
    "query_df"
   ]
  },
  {
   "cell_type": "code",
   "execution_count": 137,
   "metadata": {},
   "outputs": [
    {
     "name": "stderr",
     "output_type": "stream",
     "text": [
      "100%|██████████| 1565/1565 [02:26<00:00, 10.67it/s]\n"
     ]
    }
   ],
   "source": [
    "import playground.basic_trainer\n",
    "import playground.logistic_regression\n",
    "\n",
    "importlib.reload(playground.logistic_regression)\n",
    "importlib.reload(playground.basic_trainer)\n",
    "from playground.logistic_regression import LinearModel\n",
    "aps = []\n",
    "\n",
    "for (idx, row), query_vector in tqdm(zip(query_df.iterrows(), image_query_vecs), total=query_df.shape[0]):\n",
    "    query_vector = get_query_vector(make_query(row.label))\n",
    "    clf = LinearModel(class_weight='balanced', label_loss_type='hinge_squared_loss', reg_norm_lambda=10.,\n",
    "                      verbose=False, regularizer_vector=query_vector, reg_vector_lambda=100.)\n",
    "    Xpos = query_vector.reshape(1, -1)\n",
    "    X = np.concatenate([Xpos, Xneg], axis=0)\n",
    "    y = np.concatenate([np.ones(1), np.zeros(Xneg.shape[0])])\n",
    "    clf.fit(X, y) # train\n",
    "    image_scores = clf.decision_function(test_vec_db)\n",
    "    y_true = get_y_true(test_df, row.label)\n",
    "    ap = average_precision_score(y_true, image_scores)\n",
    "    aps.append(ap)"
   ]
  },
  {
   "cell_type": "code",
   "execution_count": 135,
   "metadata": {},
   "outputs": [],
   "source": [
    "#clf2 = svm.LinearSVC(class_weight='balanced', verbose=False, max_iter=10000, tol=1e-6, C=0.1)A"
   ]
  },
  {
   "cell_type": "code",
   "execution_count": 115,
   "metadata": {},
   "outputs": [],
   "source": [
    "# image_scores2 = clf2.decision_function(test_vec_db)\n",
    "# ap2 = average_precision_score(y_true, image_scores2)\n"
   ]
  },
  {
   "cell_type": "code",
   "execution_count": 138,
   "metadata": {},
   "outputs": [
    {
     "data": {
      "text/plain": [
       "knn_ap            0.076140\n",
       "text_ap           0.232334\n",
       "svm_reg_ap        0.231584\n",
       "svm_reg_ap2       0.230460\n",
       "svm_reg_ap3       0.233197\n",
       "svm_ap            0.088182\n",
       "svm_squared_ap    0.087306\n",
       "dtype: float64"
      ]
     },
     "execution_count": 138,
     "metadata": {},
     "output_type": "execute_result"
    }
   ],
   "source": [
    "query_df = query_df.assign(svm_reg_ap3=aps)\n",
    "totals = query_df.groupby('label')[['knn_ap', 'text_ap', 'svm_reg_ap', 'svm_reg_ap2', 'svm_reg_ap3', 'svm_ap',  'svm_squared_ap']].mean()\n",
    "totals.mean()"
   ]
  },
  {
   "cell_type": "code",
   "execution_count": 23,
   "metadata": {},
   "outputs": [
    {
     "data": {
      "text/plain": [
       "svm_ap    0.059137\n",
       "dtype: float64"
      ]
     },
     "execution_count": 23,
     "metadata": {},
     "output_type": "execute_result"
    }
   ],
   "source": [
    "totals = query_df.groupby('label')[['svm_ap']].mean()\n",
    "totals.mean()"
   ]
  },
  {
   "cell_type": "code",
   "execution_count": 38,
   "metadata": {},
   "outputs": [
    {
     "data": {
      "text/plain": [
       "knn_ap     0.076140\n",
       "text_ap    0.232334\n",
       "reg_ap     0.233089\n",
       "svm_ap     0.088182\n",
       "dtype: float64"
      ]
     },
     "execution_count": 38,
     "metadata": {},
     "output_type": "execute_result"
    }
   ],
   "source": [
    "query_df = query_df.assign(reg_ap=aps)\n",
    "totals = query_df.groupby('label')[['knn_ap', 'text_ap', 'reg_ap', 'svm_ap']].mean()\n",
    "totals.mean()a"
   ]
  },
  {
   "cell_type": "code",
   "execution_count": 99,
   "metadata": {},
   "outputs": [
    {
     "data": {
      "text/plain": [
       "ap      0.076140\n",
       "svap    0.088269\n",
       "lrap    0.078470\n",
       "dtype: float64"
      ]
     },
     "execution_count": 99,
     "metadata": {},
     "output_type": "execute_result"
    }
   ],
   "source": [
    "query_df = query_df.assign(lrap=aps)\n",
    "totals = query_df.groupby('label')[['ap', 'svap', 'lrap']].mean()\n",
    "totals.mean()"
   ]
  },
  {
   "cell_type": "code",
   "execution_count": 101,
   "metadata": {},
   "outputs": [
    {
     "data": {
      "text/plain": [
       "ap      0.076140\n",
       "svap    0.088269\n",
       "lrap    0.079271\n",
       "dtype: float64"
      ]
     },
     "execution_count": 101,
     "metadata": {},
     "output_type": "execute_result"
    }
   ],
   "source": [
    "query_df = query_df.assign(lrap=aps)\n",
    "totals = query_df.groupby('label')[['ap', 'svap', 'lrap']].mean()\n",
    "totals.mean()"
   ]
  },
  {
   "cell_type": "code",
   "execution_count": null,
   "metadata": {},
   "outputs": [],
   "source": []
  }
 ],
 "metadata": {
  "kernelspec": {
   "display_name": "pixeltable_39",
   "language": "python",
   "name": "python3"
  },
  "language_info": {
   "codemirror_mode": {
    "name": "ipython",
    "version": 3
   },
   "file_extension": ".py",
   "mimetype": "text/x-python",
   "name": "python",
   "nbconvert_exporter": "python",
   "pygments_lexer": "ipython3",
   "version": "3.11.0"
  }
 },
 "nbformat": 4,
 "nbformat_minor": 2
}
