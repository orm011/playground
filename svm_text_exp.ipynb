{
 "cells": [
  {
   "cell_type": "code",
   "execution_count": 3,
   "metadata": {},
   "outputs": [],
   "source": [
    "import pandas as pd\n",
    "import numpy as np\n",
    "import torch\n",
    "import torch.nn.functional as F\n",
    "from tqdm.auto import tqdm\n",
    "from playground.load import dataset, clip_model, clip_processor, model_device, extract_image_vectors"
   ]
  },
  {
   "cell_type": "code",
   "execution_count": 4,
   "metadata": {},
   "outputs": [],
   "source": [
    "# will take a few minutes\n",
    "# df, image_vectors = extract_image_vectors(dataset)\n",
    "# df.to_parquet('data/image_meta.parquet')\n",
    "# np.save('data/image_vectors.npy', image_vectors)\n",
    "df = pd.read_parquet('data/objectnet/image_meta.parquet')\n",
    "image_vectors = np.load('data/objectnet/image_vectors.npy')"
   ]
  },
  {
   "cell_type": "code",
   "execution_count": 5,
   "metadata": {},
   "outputs": [],
   "source": [
    "def get_y_true(df, label):\n",
    "    assert label in df.label.unique()\n",
    "    y_true = np.zeros(df.shape[0])\n",
    "    y_true[df[df.label == label].index.values] =1\n",
    "    return y_true\n",
    "\n",
    "def get_query_vector(text):\n",
    "    query_tokens = clip_processor(text=[text], return_tensors='pt')\n",
    "    query_vector = clip_model.get_text_features(query_tokens['input_ids'].to(model_device))\n",
    "    query_vector = F.normalize(query_vector)\n",
    "    query_vector = query_vector.cpu().detach().numpy().reshape(-1)\n",
    "    return query_vector"
   ]
  },
  {
   "cell_type": "code",
   "execution_count": 6,
   "metadata": {},
   "outputs": [],
   "source": [
    "from sklearn.metrics import average_precision_score"
   ]
  },
  {
   "cell_type": "code",
   "execution_count": 7,
   "metadata": {},
   "outputs": [
    {
     "data": {
      "text/plain": [
       "0.8783107024897996"
      ]
     },
     "execution_count": 7,
     "metadata": {},
     "output_type": "execute_result"
    }
   ],
   "source": [
    "y_true = get_y_true(df, 'banana')\n",
    "query_vector = get_query_vector('a photo of a banana')\n",
    "image_scores = image_vectors @ query_vector\n",
    "average_precision_score(y_true, image_scores)"
   ]
  },
  {
   "cell_type": "code",
   "execution_count": 8,
   "metadata": {},
   "outputs": [],
   "source": [
    "# for each label, we will pick a few random 'train' images we will use for querying, and the rest will be used for measuring performance\n",
    "np.random.seed(0)"
   ]
  },
  {
   "cell_type": "code",
   "execution_count": 32,
   "metadata": {},
   "outputs": [],
   "source": [
    "df = df.assign(random_id=np.random.permutation(df.shape[0]))\n",
    "df = df.assign(group_rank=df.groupby('label')['random_id'].rank(method='first').astype('int'))\n",
    "df = df.assign(split=df.group_rank.apply(lambda x: 'query' if x <= 5 else 'test'))"
   ]
  },
  {
   "cell_type": "code",
   "execution_count": 33,
   "metadata": {},
   "outputs": [],
   "source": [
    "# now, we will compute the average precision for each train example\n",
    "query_df = df[df.split == 'query']\n",
    "test_df = df[df.split == 'test']\n"
   ]
  },
  {
   "cell_type": "code",
   "execution_count": 36,
   "metadata": {},
   "outputs": [],
   "source": [
    "test_vec_db = image_vectors[test_df.index.values]"
   ]
  },
  {
   "cell_type": "code",
   "execution_count": 38,
   "metadata": {},
   "outputs": [],
   "source": [
    "image_query_vecs = image_vectors[query_df.index.values]"
   ]
  },
  {
   "cell_type": "code",
   "execution_count": null,
   "metadata": {},
   "outputs": [],
   "source": []
  },
  {
   "cell_type": "code",
   "execution_count": null,
   "metadata": {},
   "outputs": [],
   "source": []
  }
 ],
 "metadata": {
  "kernelspec": {
   "display_name": "pixeltable_39",
   "language": "python",
   "name": "python3"
  },
  "language_info": {
   "codemirror_mode": {
    "name": "ipython",
    "version": 3
   },
   "file_extension": ".py",
   "mimetype": "text/x-python",
   "name": "python",
   "nbconvert_exporter": "python",
   "pygments_lexer": "ipython3",
   "version": "3.11.0"
  }
 },
 "nbformat": 4,
 "nbformat_minor": 2
}
