{
 "cells": [
  {
   "cell_type": "code",
   "execution_count": 13,
   "metadata": {},
   "outputs": [],
   "source": [
    "import pandas as pd\n",
    "import numpy as np\n",
    "import torch.nn.functional as F\n",
    "from tqdm.auto import tqdm\n",
    "from playground.preprocessing import clip_model, clip_processor, model_device\n",
    "\n",
    "# for experiments\n",
    "from sklearn import svm, linear_model\n",
    "from sklearn.metrics import average_precision_score\n",
    "from playground.linear_model import LinearModel\n"
   ]
  },
  {
   "cell_type": "code",
   "execution_count": 2,
   "metadata": {},
   "outputs": [],
   "source": [
    "## compute embedding first time: this will take a few minutes\n",
    "#from playground.load import objectnet_dataset, extract_image_vectors\n",
    "#df = extract_image_vectors(objectnet_dataset)\n",
    "#df.to_parquet('data/objectnet/embeddings.parquet')"
   ]
  },
  {
   "cell_type": "code",
   "execution_count": 3,
   "metadata": {},
   "outputs": [],
   "source": [
    "# load precomputed embeddings\n",
    "objectnet_df = pd.read_parquet('data/objectnet/embeddings.parquet')"
   ]
  },
  {
   "cell_type": "code",
   "execution_count": 5,
   "metadata": {},
   "outputs": [],
   "source": [
    "# work with unit length vectors for dot product (works better for CLIP embeddings)\n",
    "objectnet_df = objectnet_df.assign(normalized_vectors=[vec for vec in np.stack(objectnet_df['vectors']) / np.linalg.norm(objectnet_df['vectors'])])\n",
    "\n",
    "# pick a random image from each class to be the query to be used as the positive example\n",
    "np.random.seed(10)\n",
    "objectnet_df = objectnet_df.assign(random_id=np.random.permutation(objectnet_df.shape[0]))\n",
    "objectnet_df = objectnet_df.assign(group_rank=objectnet_df.groupby('label')['random_id'].rank(method='first').astype('int'))\n",
    "objectnet_df = objectnet_df.assign(split=objectnet_df.group_rank.apply(lambda x: 'query' if x <= 1 else 'test'))\n",
    "\n",
    "query_df = objectnet_df[objectnet_df.split == 'query']\n",
    "test_df = objectnet_df[objectnet_df.split == 'test']\n",
    "\n",
    "# from the test set, take a random sample of the DB which we will use as pseudo-negative examples\n",
    "# while training some of the linear models\n",
    "number_svm_train_examples = 2000\n",
    "random_sample = np.random.permutation(test_df.shape[0])[:number_svm_train_examples]\n",
    "Xneg = np.stack(test_df.iloc[random_sample].normalized_vectors.values)\n",
    "yneg = np.zeros(Xneg.shape[0])\n",
    "\n",
    "# the full test set used for evaluation\n",
    "Xtest = np.stack(test_df.normalized_vectors.values)"
   ]
  },
  {
   "cell_type": "code",
   "execution_count": 6,
   "metadata": {},
   "outputs": [],
   "source": [
    "def get_ys(df, label : str):\n",
    "    ''' get binary labels for a given class '''\n",
    "    assert label in df.label.unique()\n",
    "    return np.where(df.label == label, 1, 0)\n",
    "\n",
    "def get_text_embedding(text : str, prompt_template='A picture of a {}'):\n",
    "    ''' get CLIP vector representation of text query '''\n",
    "    text = text.replace('_', ' ')\n",
    "    text = prompt_template.format(text)\n",
    "    query_tokens = clip_processor(text=[text], return_tensors='pt')\n",
    "    query_vector = clip_model.get_text_features(query_tokens['input_ids'].to(model_device))\n",
    "    query_vector = F.normalize(query_vector)\n",
    "    query_vector = query_vector.cpu().detach().numpy().reshape(-1)\n",
    "    return query_vector\n",
    "\n",
    "def eval_method(query_df, vector_function):\n",
    "    ''' run a given functrion over different categories on the dataset and compute AP '''\n",
    "    aps = []\n",
    "    for (idx, row) in tqdm(query_df.iterrows(), total=query_df.shape[0]):\n",
    "        query_vector = vector_function(row)\n",
    "        scores = Xtest @ query_vector\n",
    "        y_true = get_ys(test_df, row.label)\n",
    "        ap = average_precision_score(y_true, scores)\n",
    "        aps.append(ap)\n",
    "    return np.array(aps)\n",
    "\n",
    "\n",
    "## Different methods to get a vector\n",
    "\n",
    "def get_vector_from_text(row):\n",
    "    ''' get CLIP vector representation of text query, aka zero-shot search '''\n",
    "    return get_text_embedding(row.label)\n",
    "\n",
    "def get_vector_from_knn(row):\n",
    "    ''' get the vector representation of the row, aka nearest neighbor search '''\n",
    "    return row.normalized_vectors\n",
    "\n",
    "def get_vector_from_svm(row):\n",
    "    ''' ExemplarSVM: get the vector representation from using one positive example, and a random sample\n",
    "    labeled as negative, train using SVM and use this for the vector lookup '''\n",
    "    clf = svm.LinearSVC(class_weight='balanced', verbose=False, max_iter=10000, tol=1e-6, C=0.1)\n",
    "    Xpos = row.normalized_vectors.reshape(1, -1)\n",
    "    X = np.concatenate([Xpos, Xneg], axis=0)\n",
    "    y = np.concatenate([np.ones(1), yneg])\n",
    "    clf.fit(X, y)\n",
    "    return clf.coef_.reshape(-1)\n",
    "\n",
    "def get_vector_from_logistic_reg(row):\n",
    "    ''' Similar to ExemplarSVM, but using logistic regression instead '''\n",
    "    clf = linear_model.LogisticRegression(class_weight='balanced', fit_intercept=False, verbose=False, max_iter=10000, tol=1e-6, C=0.1)\n",
    "    Xpos = row.normalized_vectors.reshape(1, -1)\n",
    "    X = np.concatenate([Xpos, Xneg], axis=0)\n",
    "    y = np.concatenate([np.ones(1), yneg])\n",
    "    clf.fit(X, y)\n",
    "    return clf.coef_.reshape(-1)\n",
    "\n",
    "def get_vector_svm_reg(row):\n",
    "    ''' mixes a text vector with exemplar SVM '''\n",
    "    regularizer_vector  = get_vector_from_text(row)\n",
    "    clf = LinearModel(class_weight='balanced', label_loss_type='hinge_squared_loss', reg_norm_lambda=10.,\n",
    "                      verbose=False, max_iter=3,\n",
    "                      regularizer_vector=regularizer_vector, reg_vector_lambda=1000.)\n",
    "    Xpos = row.normalized_vectors.reshape(1, -1)\n",
    "    X = np.concatenate([Xpos, Xneg], axis=0)\n",
    "    y = np.concatenate([np.ones(1), yneg])\n",
    "    clf.fit(X, y) # train\n",
    "    coeff = clf._module.weight.detach().cpu().numpy().reshape(-1)\n",
    "    return coeff"
   ]
  },
  {
   "cell_type": "code",
   "execution_count": 7,
   "metadata": {},
   "outputs": [],
   "source": []
  },
  {
   "cell_type": "code",
   "execution_count": 8,
   "metadata": {},
   "outputs": [
    {
     "name": "stderr",
     "output_type": "stream",
     "text": [
      "100%|██████████| 313/313 [00:13<00:00, 22.98it/s]\n"
     ]
    }
   ],
   "source": [
    "text_ap = eval_method(query_df, get_vector_from_text)"
   ]
  },
  {
   "cell_type": "code",
   "execution_count": 9,
   "metadata": {},
   "outputs": [
    {
     "name": "stderr",
     "output_type": "stream",
     "text": [
      "100%|██████████| 313/313 [00:27<00:00, 11.26it/s]\n"
     ]
    }
   ],
   "source": [
    "svm_ap = eval_method(query_df, get_vector_from_svm)"
   ]
  },
  {
   "cell_type": "code",
   "execution_count": 10,
   "metadata": {},
   "outputs": [
    {
     "name": "stderr",
     "output_type": "stream",
     "text": [
      "100%|██████████| 313/313 [00:05<00:00, 61.38it/s]\n"
     ]
    }
   ],
   "source": [
    "knn_ap = eval_method(query_df, get_vector_from_knn)"
   ]
  },
  {
   "cell_type": "code",
   "execution_count": 11,
   "metadata": {},
   "outputs": [
    {
     "name": "stderr",
     "output_type": "stream",
     "text": [
      "100%|██████████| 313/313 [00:46<00:00,  6.72it/s]\n"
     ]
    }
   ],
   "source": [
    "svm_reg_ap = eval_method(query_df, get_vector_svm_reg)"
   ]
  },
  {
   "cell_type": "code",
   "execution_count": 12,
   "metadata": {},
   "outputs": [
    {
     "data": {
      "text/plain": [
       "svm_ap        0.095897\n",
       "text_ap       0.235935\n",
       "knn_ap        0.091348\n",
       "svm_reg_ap    0.258454\n",
       "dtype: float64"
      ]
     },
     "execution_count": 12,
     "metadata": {},
     "output_type": "execute_result"
    }
   ],
   "source": [
    "query_df = query_df.assign(svm_ap=svm_ap, text_ap=text_ap, knn_ap=knn_ap, svm_reg_ap=svm_reg_ap)\n",
    "query_df[['svm_ap', 'text_ap', 'knn_ap', 'svm_reg_ap']].mean()"
   ]
  }
 ],
 "metadata": {
  "kernelspec": {
   "display_name": "pixeltable_39",
   "language": "python",
   "name": "python3"
  },
  "language_info": {
   "codemirror_mode": {
    "name": "ipython",
    "version": 3
   },
   "file_extension": ".py",
   "mimetype": "text/x-python",
   "name": "python",
   "nbconvert_exporter": "python",
   "pygments_lexer": "ipython3",
   "version": "3.11.0"
  }
 },
 "nbformat": 4,
 "nbformat_minor": 2
}
