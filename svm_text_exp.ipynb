{
 "cells": [
  {
   "cell_type": "code",
   "execution_count": 3,
   "metadata": {},
   "outputs": [],
   "source": [
    "import pandas as pd\n",
    "import numpy as np\n",
    "import torch\n",
    "import torch.nn.functional as F\n",
    "from tqdm.auto import tqdm\n",
    "from playground.load import dataset, clip_model, clip_processor, model_device, extract_image_vectors"
   ]
  },
  {
   "cell_type": "code",
   "execution_count": 4,
   "metadata": {},
   "outputs": [],
   "source": [
    "# will take a few minutes\n",
    "# df, image_vectors = extract_image_vectors(dataset)\n",
    "# df.to_parquet('data/image_meta.parquet')\n",
    "# np.save('data/image_vectors.npy', image_vectors)\n",
    "df = pd.read_parquet('data/objectnet/image_meta.parquet')\n",
    "image_vectors = np.load('data/objectnet/image_vectors.npy')"
   ]
  },
  {
   "cell_type": "code",
   "execution_count": 46,
   "metadata": {},
   "outputs": [],
   "source": [
    "def get_y_true(df, label):\n",
    "    assert label in df.label.unique()\n",
    "    return np.where(df.label == label, 1, 0)\n",
    "\n",
    "def get_query_vector(text):\n",
    "    query_tokens = clip_processor(text=[text], return_tensors='pt')\n",
    "    query_vector = clip_model.get_text_features(query_tokens['input_ids'].to(model_device))\n",
    "    query_vector = F.normalize(query_vector)\n",
    "    query_vector = query_vector.cpu().detach().numpy().reshape(-1)\n",
    "    return query_vector"
   ]
  },
  {
   "cell_type": "code",
   "execution_count": 6,
   "metadata": {},
   "outputs": [],
   "source": [
    "from sklearn.metrics import average_precision_score"
   ]
  },
  {
   "cell_type": "code",
   "execution_count": 47,
   "metadata": {},
   "outputs": [
    {
     "data": {
      "text/plain": [
       "0.8783107024897996"
      ]
     },
     "execution_count": 47,
     "metadata": {},
     "output_type": "execute_result"
    }
   ],
   "source": [
    "y_true = get_y_true(df, 'banana')\n",
    "query_vector = get_query_vector('a photo of a banana')\n",
    "image_scores = image_vectors @ query_vector\n",
    "average_precision_score(y_true, image_scores)"
   ]
  },
  {
   "cell_type": "code",
   "execution_count": 8,
   "metadata": {},
   "outputs": [],
   "source": [
    "# for each label, we will pick a few random 'train' images we will use for querying, and the rest will be used for measuring performance\n",
    "np.random.seed(0)"
   ]
  },
  {
   "cell_type": "code",
   "execution_count": 32,
   "metadata": {},
   "outputs": [],
   "source": [
    "df = df.assign(random_id=np.random.permutation(df.shape[0]))\n",
    "df = df.assign(group_rank=df.groupby('label')['random_id'].rank(method='first').astype('int'))\n",
    "df = df.assign(split=df.group_rank.apply(lambda x: 'query' if x <= 5 else 'test'))"
   ]
  },
  {
   "cell_type": "code",
   "execution_count": 33,
   "metadata": {},
   "outputs": [],
   "source": [
    "# now, we will compute the average precision for each train example\n",
    "query_df = df[df.split == 'query']\n",
    "test_df = df[df.split == 'test']\n"
   ]
  },
  {
   "cell_type": "code",
   "execution_count": 36,
   "metadata": {},
   "outputs": [],
   "source": [
    "test_vec_db = image_vectors[test_df.index.values]"
   ]
  },
  {
   "cell_type": "code",
   "execution_count": 38,
   "metadata": {},
   "outputs": [],
   "source": [
    "image_query_vecs = image_vectors[query_df.index.values]"
   ]
  },
  {
   "cell_type": "code",
   "execution_count": 52,
   "metadata": {},
   "outputs": [
    {
     "name": "stderr",
     "output_type": "stream",
     "text": [
      "100%|██████████| 1565/1565 [00:32<00:00, 47.53it/s]\n"
     ]
    }
   ],
   "source": [
    "aps = []\n",
    "for (idx, row), query_vector in tqdm(zip(query_df.iterrows(), image_query_vecs), total=query_df.shape[0]):\n",
    "    #    query_vector = get_query_vector(row.text)\n",
    "    image_scores = test_vec_db @ query_vector\n",
    "    y_true = get_y_true(test_df, row.label)\n",
    "    ap = average_precision_score(y_true, image_scores)\n",
    "    aps.append(ap)"
   ]
  },
  {
   "cell_type": "code",
   "execution_count": 53,
   "metadata": {},
   "outputs": [],
   "source": [
    "query_df = query_df.assign(ap=aps)"
   ]
  },
  {
   "cell_type": "code",
   "execution_count": 55,
   "metadata": {},
   "outputs": [
    {
     "data": {
      "text/html": [
       "<div>\n",
       "<style scoped>\n",
       "    .dataframe tbody tr th:only-of-type {\n",
       "        vertical-align: middle;\n",
       "    }\n",
       "\n",
       "    .dataframe tbody tr th {\n",
       "        vertical-align: top;\n",
       "    }\n",
       "\n",
       "    .dataframe thead th {\n",
       "        text-align: right;\n",
       "    }\n",
       "</style>\n",
       "<table border=\"1\" class=\"dataframe\">\n",
       "  <thead>\n",
       "    <tr style=\"text-align: right;\">\n",
       "      <th></th>\n",
       "      <th>label</th>\n",
       "      <th>path</th>\n",
       "      <th>random_id</th>\n",
       "      <th>group_rank</th>\n",
       "      <th>split</th>\n",
       "      <th>ap</th>\n",
       "    </tr>\n",
       "  </thead>\n",
       "  <tbody>\n",
       "    <tr>\n",
       "      <th>32</th>\n",
       "      <td>air_freshener</td>\n",
       "      <td>air_freshener/2883d4225ff948a.png</td>\n",
       "      <td>1156</td>\n",
       "      <td>3</td>\n",
       "      <td>query</td>\n",
       "      <td>0.085341</td>\n",
       "    </tr>\n",
       "    <tr>\n",
       "      <th>40</th>\n",
       "      <td>air_freshener</td>\n",
       "      <td>air_freshener/38af90ed09a74e1.png</td>\n",
       "      <td>40</td>\n",
       "      <td>1</td>\n",
       "      <td>query</td>\n",
       "      <td>0.076872</td>\n",
       "    </tr>\n",
       "    <tr>\n",
       "      <th>67</th>\n",
       "      <td>air_freshener</td>\n",
       "      <td>air_freshener/5dc8b11f33b6464.png</td>\n",
       "      <td>1643</td>\n",
       "      <td>5</td>\n",
       "      <td>query</td>\n",
       "      <td>0.034204</td>\n",
       "    </tr>\n",
       "    <tr>\n",
       "      <th>128</th>\n",
       "      <td>air_freshener</td>\n",
       "      <td>air_freshener/a7f7c424fe094d3.png</td>\n",
       "      <td>1277</td>\n",
       "      <td>4</td>\n",
       "      <td>query</td>\n",
       "      <td>0.007236</td>\n",
       "    </tr>\n",
       "    <tr>\n",
       "      <th>158</th>\n",
       "      <td>air_freshener</td>\n",
       "      <td>air_freshener/d7d1bee4daa64c0.png</td>\n",
       "      <td>41</td>\n",
       "      <td>2</td>\n",
       "      <td>query</td>\n",
       "      <td>0.009850</td>\n",
       "    </tr>\n",
       "    <tr>\n",
       "      <th>...</th>\n",
       "      <td>...</td>\n",
       "      <td>...</td>\n",
       "      <td>...</td>\n",
       "      <td>...</td>\n",
       "      <td>...</td>\n",
       "      <td>...</td>\n",
       "    </tr>\n",
       "    <tr>\n",
       "      <th>50178</th>\n",
       "      <td>ziploc_bag</td>\n",
       "      <td>ziploc_bag/872ab49642bf4db.png</td>\n",
       "      <td>2109</td>\n",
       "      <td>3</td>\n",
       "      <td>query</td>\n",
       "      <td>0.124665</td>\n",
       "    </tr>\n",
       "    <tr>\n",
       "      <th>50186</th>\n",
       "      <td>ziploc_bag</td>\n",
       "      <td>ziploc_bag/949a8ec3b6154fc.png</td>\n",
       "      <td>2913</td>\n",
       "      <td>4</td>\n",
       "      <td>query</td>\n",
       "      <td>0.017945</td>\n",
       "    </tr>\n",
       "    <tr>\n",
       "      <th>50188</th>\n",
       "      <td>ziploc_bag</td>\n",
       "      <td>ziploc_bag/96fc471e354b49f.png</td>\n",
       "      <td>1542</td>\n",
       "      <td>2</td>\n",
       "      <td>query</td>\n",
       "      <td>0.014206</td>\n",
       "    </tr>\n",
       "    <tr>\n",
       "      <th>50211</th>\n",
       "      <td>ziploc_bag</td>\n",
       "      <td>ziploc_bag/b4895cfd653e417.png</td>\n",
       "      <td>3498</td>\n",
       "      <td>5</td>\n",
       "      <td>query</td>\n",
       "      <td>0.039904</td>\n",
       "    </tr>\n",
       "    <tr>\n",
       "      <th>50253</th>\n",
       "      <td>ziploc_bag</td>\n",
       "      <td>ziploc_bag/eb4a250b54544fd.png</td>\n",
       "      <td>846</td>\n",
       "      <td>1</td>\n",
       "      <td>query</td>\n",
       "      <td>0.009461</td>\n",
       "    </tr>\n",
       "  </tbody>\n",
       "</table>\n",
       "<p>1565 rows × 6 columns</p>\n",
       "</div>"
      ],
      "text/plain": [
       "               label                               path  random_id  \\\n",
       "32     air_freshener  air_freshener/2883d4225ff948a.png       1156   \n",
       "40     air_freshener  air_freshener/38af90ed09a74e1.png         40   \n",
       "67     air_freshener  air_freshener/5dc8b11f33b6464.png       1643   \n",
       "128    air_freshener  air_freshener/a7f7c424fe094d3.png       1277   \n",
       "158    air_freshener  air_freshener/d7d1bee4daa64c0.png         41   \n",
       "...              ...                                ...        ...   \n",
       "50178     ziploc_bag     ziploc_bag/872ab49642bf4db.png       2109   \n",
       "50186     ziploc_bag     ziploc_bag/949a8ec3b6154fc.png       2913   \n",
       "50188     ziploc_bag     ziploc_bag/96fc471e354b49f.png       1542   \n",
       "50211     ziploc_bag     ziploc_bag/b4895cfd653e417.png       3498   \n",
       "50253     ziploc_bag     ziploc_bag/eb4a250b54544fd.png        846   \n",
       "\n",
       "       group_rank  split        ap  \n",
       "32              3  query  0.085341  \n",
       "40              1  query  0.076872  \n",
       "67              5  query  0.034204  \n",
       "128             4  query  0.007236  \n",
       "158             2  query  0.009850  \n",
       "...           ...    ...       ...  \n",
       "50178           3  query  0.124665  \n",
       "50186           4  query  0.017945  \n",
       "50188           2  query  0.014206  \n",
       "50211           5  query  0.039904  \n",
       "50253           1  query  0.009461  \n",
       "\n",
       "[1565 rows x 6 columns]"
      ]
     },
     "execution_count": 55,
     "metadata": {},
     "output_type": "execute_result"
    }
   ],
   "source": [
    "query_df"
   ]
  },
  {
   "cell_type": "code",
   "execution_count": 58,
   "metadata": {},
   "outputs": [],
   "source": []
  },
  {
   "cell_type": "code",
   "execution_count": null,
   "metadata": {},
   "outputs": [],
   "source": []
  },
  {
   "cell_type": "code",
   "execution_count": null,
   "metadata": {},
   "outputs": [],
   "source": []
  }
 ],
 "metadata": {
  "kernelspec": {
   "display_name": "pixeltable_39",
   "language": "python",
   "name": "python3"
  },
  "language_info": {
   "codemirror_mode": {
    "name": "ipython",
    "version": 3
   },
   "file_extension": ".py",
   "mimetype": "text/x-python",
   "name": "python",
   "nbconvert_exporter": "python",
   "pygments_lexer": "ipython3",
   "version": "3.11.0"
  }
 },
 "nbformat": 4,
 "nbformat_minor": 2
}
